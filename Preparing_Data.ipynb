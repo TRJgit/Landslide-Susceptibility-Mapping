{
 "cells": [
  {
   "cell_type": "code",
   "execution_count": 1,
   "id": "1ffa8d52-9841-478c-ab0a-970098005a02",
   "metadata": {},
   "outputs": [],
   "source": [
    "import pandas as pd\n",
    "import numpy as np"
   ]
  },
  {
   "cell_type": "code",
   "execution_count": 2,
   "id": "535a75fd-b2d6-487b-bbfa-3f07bff73f37",
   "metadata": {},
   "outputs": [],
   "source": [
    "# Getting no_landslide points csv file to a dataframe\n",
    "\n",
    "row_nolandslide=pd.read_csv(\"No_Landslide.csv\",delimiter=\";\")\n",
    "no_landslide=pd.DataFrame()\n",
    "no_landslide['Slope']=row_nolandslide[\"RASTERVALU\"]\n",
    "no_landslide['Elevation']=row_nolandslide[\"RASTERVALU_1\"]\n",
    "no_landslide['Corina']=row_nolandslide['RASTERVALU_12']"
   ]
  },
  {
   "cell_type": "code",
   "execution_count": 3,
   "id": "0265b4f3-15f9-4395-86be-75444ab540c3",
   "metadata": {},
   "outputs": [],
   "source": [
    "\n",
    "# Getting landslide points csv file to a dataframe\n",
    "\n",
    "row_landsldie=pd.read_csv(\"Landslide.csv\",delimiter=';')\n",
    "landslide=pd.DataFrame()\n",
    "landslide['Slope']=row_landsldie['Slope_slide']\n",
    "landslide['Elevation']=row_landsldie['Elev_slidee']\n",
    "landslide['Corina']=row_landsldie['Corine_Slide']\n"
   ]
  },
  {
   "cell_type": "code",
   "execution_count": 4,
   "id": "74a54d4f-90ba-4017-bf38-d6d639422e8a",
   "metadata": {},
   "outputs": [],
   "source": [
    "# Adding target values to landslide and non_landslide points\n",
    "\n",
    "landslide['Target'] = 1\n",
    "no_landslide['Target'] = 0\n",
    "Final = pd.concat([landslide, no_landslide], ignore_index=True)"
   ]
  },
  {
   "cell_type": "code",
   "execution_count": 5,
   "id": "33a3853f-b1e4-4dc2-a7fb-65239c216db2",
   "metadata": {},
   "outputs": [
    {
     "name": "stderr",
     "output_type": "stream",
     "text": [
      "C:\\Users\\thila\\AppData\\Local\\Temp\\ipykernel_22640\\432371601.py:1: FutureWarning: Setting an item of incompatible dtype is deprecated and will raise an error in a future version of pandas. Value 'Discontinous Urban Fabric' has dtype incompatible with float64, please explicitly cast to a compatible dtype first.\n",
      "  Final.loc[Final['Corina'] == 112, 'Corina'] = \"Discontinous Urban Fabric\"\n"
     ]
    }
   ],
   "source": [
    "Final.loc[Final['Corina'] == 112, 'Corina'] = \"Discontinous Urban Fabric\"\n",
    "Final.loc[Final['Corina'] == 211, 'Corina'] = \"Non-Irrigated Arable Land\"\n",
    "Final.loc[Final['Corina'] == 212, 'Corina'] = \"Permanently irrigated land\"\n",
    "Final.loc[Final['Corina'] == 231, 'Corina'] = \"Pastures\"\n",
    "Final.loc[Final['Corina'] == 242, 'Corina'] = \"Complex cultivation patterns\"\n",
    "Final.loc[Final['Corina'] == 243, 'Corina'] = \"Land principally occupied by agriculture\"\n",
    "Final.loc[Final['Corina'] == 311, 'Corina'] = \"Broad-leaved forest\"\n",
    "Final.loc[Final['Corina'] == 321, 'Corina'] = \"Natural grasslands\"\n",
    "Final.loc[Final['Corina'] == 324, 'Corina'] = \"Transitional woodland\"\n",
    "Final.loc[Final['Corina'] == 332, 'Corina'] = \"Bare rocks\"\n",
    "Final.loc[Final['Corina'] == 333, 'Corina'] = \"Sparsely vegetated areas\"\n",
    "Final.loc[Final['Corina'] == 411, 'Corina'] = \"Inland marshes\"\n",
    "Final.loc[Final['Corina'] == 512, 'Corina'] = \"Water bodies\"\n",
    "Final.loc[Final['Corina'] == 213, 'Corina'] = 'Rice Fields'\n",
    "\n",
    "# Ensure 'Corina' column is of object(string) type.\n",
    "Final['Corina'] = Final['Corina'].astype(str)"
   ]
  },
  {
   "cell_type": "code",
   "execution_count": null,
   "id": "79f4f815-f097-4374-bd6f-d2cb437e6b15",
   "metadata": {},
   "outputs": [],
   "source": []
  }
 ],
 "metadata": {
  "kernelspec": {
   "display_name": "lsm",
   "language": "python",
   "name": "lsm"
  },
  "language_info": {
   "codemirror_mode": {
    "name": "ipython",
    "version": 3
   },
   "file_extension": ".py",
   "mimetype": "text/x-python",
   "name": "python",
   "nbconvert_exporter": "python",
   "pygments_lexer": "ipython3",
   "version": "3.9.18"
  }
 },
 "nbformat": 4,
 "nbformat_minor": 5
}
