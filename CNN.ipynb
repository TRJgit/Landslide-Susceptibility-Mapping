{
 "cells": [
  {
   "cell_type": "code",
   "execution_count": 2,
   "id": "cc4bad6a-5e17-45b1-9721-87127d78cc1a",
   "metadata": {},
   "outputs": [],
   "source": [
    "import pandas as pd\n",
    "import numpy as np\n",
    "import matplotlib.pyplot as plt\n",
    "from sklearn.model_selection import train_test_split\n",
    "from sklearn.metrics import confusion_matrix, roc_auc_score, roc_curve, classification_report\n",
    "from tensorflow import keras\n",
    "from tensorflow.keras import layers"
   ]
  },
  {
   "cell_type": "code",
   "execution_count": 3,
   "id": "6e11e89a-265f-4ff6-8166-9bc33d2e0819",
   "metadata": {},
   "outputs": [],
   "source": [
    "scaled_data = pd.read_csv(\"Normalized_data.csv\")\n",
    "target = pd.read_csv(\"Target.csv\").squeeze()\n"
   ]
  },
  {
   "cell_type": "code",
   "execution_count": 4,
   "id": "a6f59536-f4a3-4925-926b-aaf2149bf318",
   "metadata": {},
   "outputs": [],
   "source": [
    "X_train, X_test, Y_train, Y_test = train_test_split(scaled_data, target, test_size=0.3, random_state=0)"
   ]
  },
  {
   "cell_type": "code",
   "execution_count": 5,
   "id": "d9e4eaa8-57ce-4f3b-b0f0-4851bf1aa7f2",
   "metadata": {},
   "outputs": [],
   "source": [
    "# Reshape data for CNN (example: 1D CNN)\n",
    "X_train_reshaped = X_train.values.reshape(X_train.shape[0], X_train.shape[1], 1)\n",
    "X_test_reshaped = X_test.values.reshape(X_test.shape[0], X_test.shape[1], 1)\n"
   ]
  },
  {
   "cell_type": "code",
   "execution_count": 6,
   "id": "2100053b-f0c8-49a4-8398-a601bbc7abc2",
   "metadata": {},
   "outputs": [],
   "source": [
    "# CNN model\n",
    "model = keras.Sequential([\n",
    "    layers.Conv1D(32, 3, activation='relu', input_shape=(X_train.shape[1], 1)),\n",
    "    layers.MaxPooling1D(2),\n",
    "    layers.Conv1D(64, 3, activation='relu'),\n",
    "    layers.MaxPooling1D(2),\n",
    "    layers.Flatten(),\n",
    "    layers.Dense(128, activation='relu'),\n",
    "    layers.Dense(1, activation='sigmoid')  # Binary classification\n",
    "])"
   ]
  },
  {
   "cell_type": "code",
   "execution_count": 9,
   "id": "8c935d57-2cc2-40bb-9e1b-f5836af52b49",
   "metadata": {},
   "outputs": [],
   "source": [
    "\n",
    "# Compile model\n",
    "model.compile(optimizer='adam', loss='binary_crossentropy', metrics=['accuracy'])"
   ]
  },
  {
   "cell_type": "code",
   "execution_count": 11,
   "id": "cb279d1b-c63a-49b2-ba6f-b3fa724efb1e",
   "metadata": {},
   "outputs": [
    {
     "name": "stdout",
     "output_type": "stream",
     "text": [
      "Epoch 1/50\n",
      "158/158 [==============================] - 8s 45ms/step - loss: 0.5760 - accuracy: 0.6709 - val_loss: 0.4994 - val_accuracy: 0.7303\n",
      "Epoch 2/50\n",
      "158/158 [==============================] - 7s 44ms/step - loss: 0.5110 - accuracy: 0.7211 - val_loss: 0.4683 - val_accuracy: 0.7629\n",
      "Epoch 3/50\n",
      "158/158 [==============================] - 7s 43ms/step - loss: 0.4830 - accuracy: 0.7489 - val_loss: 0.4553 - val_accuracy: 0.7454\n",
      "Epoch 4/50\n",
      "158/158 [==============================] - 7s 45ms/step - loss: 0.4593 - accuracy: 0.7728 - val_loss: 0.4167 - val_accuracy: 0.8162\n",
      "Epoch 5/50\n",
      "158/158 [==============================] - 7s 46ms/step - loss: 0.4461 - accuracy: 0.7857 - val_loss: 0.4080 - val_accuracy: 0.8154\n",
      "Epoch 6/50\n",
      "158/158 [==============================] - 8s 48ms/step - loss: 0.4313 - accuracy: 0.7951 - val_loss: 0.3988 - val_accuracy: 0.8059\n",
      "Epoch 7/50\n",
      "158/158 [==============================] - 8s 48ms/step - loss: 0.4295 - accuracy: 0.7913 - val_loss: 0.3857 - val_accuracy: 0.8234\n",
      "Epoch 8/50\n",
      "158/158 [==============================] - 7s 43ms/step - loss: 0.4180 - accuracy: 0.7996 - val_loss: 0.3912 - val_accuracy: 0.8019\n",
      "Epoch 9/50\n",
      "158/158 [==============================] - 7s 45ms/step - loss: 0.4152 - accuracy: 0.8042 - val_loss: 0.3847 - val_accuracy: 0.8258\n",
      "Epoch 10/50\n",
      "158/158 [==============================] - 7s 45ms/step - loss: 0.4059 - accuracy: 0.8122 - val_loss: 0.3763 - val_accuracy: 0.8369\n",
      "Epoch 11/50\n",
      "158/158 [==============================] - 7s 44ms/step - loss: 0.3983 - accuracy: 0.8144 - val_loss: 0.3665 - val_accuracy: 0.8321\n",
      "Epoch 12/50\n",
      "158/158 [==============================] - 7s 43ms/step - loss: 0.3984 - accuracy: 0.8197 - val_loss: 0.3563 - val_accuracy: 0.8473\n",
      "Epoch 13/50\n",
      "158/158 [==============================] - 7s 45ms/step - loss: 0.3903 - accuracy: 0.8223 - val_loss: 0.3494 - val_accuracy: 0.8552\n",
      "Epoch 14/50\n",
      "158/158 [==============================] - 7s 47ms/step - loss: 0.3821 - accuracy: 0.8293 - val_loss: 0.3593 - val_accuracy: 0.8481\n",
      "Epoch 15/50\n",
      "158/158 [==============================] - 7s 42ms/step - loss: 0.3839 - accuracy: 0.8287 - val_loss: 0.3438 - val_accuracy: 0.8608\n",
      "Epoch 16/50\n",
      "158/158 [==============================] - 7s 45ms/step - loss: 0.3798 - accuracy: 0.8357 - val_loss: 0.3523 - val_accuracy: 0.8401\n",
      "Epoch 17/50\n",
      "158/158 [==============================] - 8s 48ms/step - loss: 0.3704 - accuracy: 0.8392 - val_loss: 0.3452 - val_accuracy: 0.8496\n",
      "Epoch 18/50\n",
      "158/158 [==============================] - 8s 49ms/step - loss: 0.3716 - accuracy: 0.8345 - val_loss: 0.3400 - val_accuracy: 0.8536\n",
      "Epoch 19/50\n",
      "158/158 [==============================] - 7s 44ms/step - loss: 0.3743 - accuracy: 0.8386 - val_loss: 0.3453 - val_accuracy: 0.8536\n",
      "Epoch 20/50\n",
      "158/158 [==============================] - 7s 46ms/step - loss: 0.3700 - accuracy: 0.8353 - val_loss: 0.3445 - val_accuracy: 0.8465\n",
      "Epoch 21/50\n",
      "158/158 [==============================] - 7s 45ms/step - loss: 0.3635 - accuracy: 0.8446 - val_loss: 0.3344 - val_accuracy: 0.8576\n",
      "Epoch 22/50\n",
      "158/158 [==============================] - 7s 46ms/step - loss: 0.3613 - accuracy: 0.8370 - val_loss: 0.3462 - val_accuracy: 0.8552\n",
      "Epoch 23/50\n",
      "158/158 [==============================] - 7s 43ms/step - loss: 0.3583 - accuracy: 0.8422 - val_loss: 0.3242 - val_accuracy: 0.8656\n",
      "Epoch 24/50\n",
      "158/158 [==============================] - 8s 49ms/step - loss: 0.3554 - accuracy: 0.8458 - val_loss: 0.3300 - val_accuracy: 0.8584\n",
      "Epoch 25/50\n",
      "158/158 [==============================] - 9s 56ms/step - loss: 0.3530 - accuracy: 0.8470 - val_loss: 0.3471 - val_accuracy: 0.8473\n",
      "Epoch 26/50\n",
      "158/158 [==============================] - 9s 58ms/step - loss: 0.3541 - accuracy: 0.8460 - val_loss: 0.3185 - val_accuracy: 0.8640\n",
      "Epoch 27/50\n",
      "158/158 [==============================] - 9s 55ms/step - loss: 0.3510 - accuracy: 0.8474 - val_loss: 0.3251 - val_accuracy: 0.8600\n",
      "Epoch 28/50\n",
      "158/158 [==============================] - 7s 47ms/step - loss: 0.3487 - accuracy: 0.8506 - val_loss: 0.3167 - val_accuracy: 0.8624\n",
      "Epoch 29/50\n",
      "158/158 [==============================] - 7s 45ms/step - loss: 0.3430 - accuracy: 0.8526 - val_loss: 0.3443 - val_accuracy: 0.8520\n",
      "Epoch 30/50\n",
      "158/158 [==============================] - 8s 50ms/step - loss: 0.3445 - accuracy: 0.8508 - val_loss: 0.3385 - val_accuracy: 0.8512\n",
      "Epoch 31/50\n",
      "158/158 [==============================] - 7s 46ms/step - loss: 0.3449 - accuracy: 0.8532 - val_loss: 0.3344 - val_accuracy: 0.8544\n",
      "Epoch 32/50\n",
      "158/158 [==============================] - 7s 47ms/step - loss: 0.3461 - accuracy: 0.8498 - val_loss: 0.3561 - val_accuracy: 0.8393\n",
      "Epoch 33/50\n",
      "158/158 [==============================] - 7s 44ms/step - loss: 0.3411 - accuracy: 0.8518 - val_loss: 0.3144 - val_accuracy: 0.8640\n",
      "Epoch 34/50\n",
      "158/158 [==============================] - 7s 46ms/step - loss: 0.3410 - accuracy: 0.8532 - val_loss: 0.3114 - val_accuracy: 0.8648\n",
      "Epoch 35/50\n",
      "158/158 [==============================] - 7s 43ms/step - loss: 0.3372 - accuracy: 0.8540 - val_loss: 0.3130 - val_accuracy: 0.8719\n",
      "Epoch 36/50\n",
      "158/158 [==============================] - 8s 48ms/step - loss: 0.3375 - accuracy: 0.8486 - val_loss: 0.3127 - val_accuracy: 0.8687\n",
      "Epoch 37/50\n",
      "158/158 [==============================] - 7s 46ms/step - loss: 0.3363 - accuracy: 0.8546 - val_loss: 0.3085 - val_accuracy: 0.8695\n",
      "Epoch 38/50\n",
      "158/158 [==============================] - 7s 46ms/step - loss: 0.3375 - accuracy: 0.8550 - val_loss: 0.3077 - val_accuracy: 0.8687\n",
      "Epoch 39/50\n",
      "158/158 [==============================] - 7s 47ms/step - loss: 0.3310 - accuracy: 0.8571 - val_loss: 0.3072 - val_accuracy: 0.8735\n",
      "Epoch 40/50\n",
      "158/158 [==============================] - 7s 47ms/step - loss: 0.3363 - accuracy: 0.8522 - val_loss: 0.3213 - val_accuracy: 0.8656\n",
      "Epoch 41/50\n",
      "158/158 [==============================] - 7s 43ms/step - loss: 0.3358 - accuracy: 0.8494 - val_loss: 0.3034 - val_accuracy: 0.8656\n",
      "Epoch 42/50\n",
      "158/158 [==============================] - 7s 45ms/step - loss: 0.3287 - accuracy: 0.8554 - val_loss: 0.3524 - val_accuracy: 0.8504\n",
      "Epoch 43/50\n",
      "158/158 [==============================] - 7s 43ms/step - loss: 0.3365 - accuracy: 0.8532 - val_loss: 0.3197 - val_accuracy: 0.8616\n",
      "Epoch 44/50\n",
      "158/158 [==============================] - 7s 43ms/step - loss: 0.3267 - accuracy: 0.8611 - val_loss: 0.3041 - val_accuracy: 0.8703\n",
      "Epoch 45/50\n",
      "158/158 [==============================] - 7s 44ms/step - loss: 0.3390 - accuracy: 0.8528 - val_loss: 0.3211 - val_accuracy: 0.8640\n",
      "Epoch 46/50\n",
      "158/158 [==============================] - 7s 44ms/step - loss: 0.3290 - accuracy: 0.8593 - val_loss: 0.3004 - val_accuracy: 0.8823\n",
      "Epoch 47/50\n",
      "158/158 [==============================] - 8s 50ms/step - loss: 0.3214 - accuracy: 0.8633 - val_loss: 0.3228 - val_accuracy: 0.8592\n",
      "Epoch 48/50\n",
      "158/158 [==============================] - 7s 45ms/step - loss: 0.3218 - accuracy: 0.8621 - val_loss: 0.3114 - val_accuracy: 0.8656\n",
      "Epoch 49/50\n",
      "158/158 [==============================] - 7s 46ms/step - loss: 0.3261 - accuracy: 0.8563 - val_loss: 0.2939 - val_accuracy: 0.8767\n",
      "Epoch 50/50\n",
      "158/158 [==============================] - 7s 44ms/step - loss: 0.3209 - accuracy: 0.8625 - val_loss: 0.3085 - val_accuracy: 0.8703\n"
     ]
    }
   ],
   "source": [
    "Y_train_np = Y_train.values  # Convert Pandas Series to NumPy array\n",
    "\n",
    "# Now, train your model with the NumPy array\n",
    "history = model.fit(\n",
    "    X_train_reshaped,\n",
    "    Y_train_np,  # Use the NumPy array\n",
    "    epochs=50,\n",
    "    batch_size=32,\n",
    "    validation_split=0.2,\n",
    "    verbose=1,\n",
    ")"
   ]
  },
  {
   "cell_type": "code",
   "execution_count": 12,
   "id": "e67fe1ed-5398-4601-89d1-89f7c105d1c3",
   "metadata": {},
   "outputs": [
    {
     "name": "stdout",
     "output_type": "stream",
     "text": [
      "85/85 [==============================] - 0s 810us/step\n"
     ]
    }
   ],
   "source": [
    "# Evaluate model\n",
    "predicted_prob = model.predict(X_test_reshaped)\n",
    "predicted = (predicted_prob > 0.5).astype(int)\n"
   ]
  },
  {
   "cell_type": "code",
   "execution_count": 13,
   "id": "bcd47b70-e367-41be-b8c0-881f176cdd91",
   "metadata": {},
   "outputs": [
    {
     "name": "stdout",
     "output_type": "stream",
     "text": [
      "CNN Confusion Matrix:\n",
      " [[1112  237]\n",
      " [ 143 1202]]\n"
     ]
    }
   ],
   "source": [
    "# Metrics\n",
    "confusion_cnn = confusion_matrix(Y_test, predicted)\n",
    "print(\"CNN Confusion Matrix:\\n\", confusion_cnn)\n"
   ]
  },
  {
   "cell_type": "code",
   "execution_count": 14,
   "id": "90548b45-6bb0-40e5-bfde-d6307b9d1178",
   "metadata": {},
   "outputs": [
    {
     "name": "stdout",
     "output_type": "stream",
     "text": [
      "CNN Classification Report:\n",
      "               precision    recall  f1-score   support\n",
      "\n",
      "           0       0.89      0.82      0.85      1349\n",
      "           1       0.84      0.89      0.86      1345\n",
      "\n",
      "    accuracy                           0.86      2694\n",
      "   macro avg       0.86      0.86      0.86      2694\n",
      "weighted avg       0.86      0.86      0.86      2694\n",
      "\n"
     ]
    }
   ],
   "source": [
    "\n",
    "classification_report_cnn = classification_report(Y_test, predicted)\n",
    "print(\"CNN Classification Report:\\n\", classification_report_cnn)"
   ]
  },
  {
   "cell_type": "code",
   "execution_count": 15,
   "id": "88470d71-f4c4-449e-b71b-84d141219945",
   "metadata": {},
   "outputs": [
    {
     "data": {
      "image/png": "[encoded data removed]",
      "text/plain": [
       "<Figure size 640x480 with 1 Axes>"
      ]
     },
     "metadata": {},
     "output_type": "display_data"
    }
   ],
   "source": [
    "fpr_cnn, tpr_cnn, thresholds_cnn = roc_curve(Y_test, predicted_prob)\n",
    "plt.plot(fpr_cnn, tpr_cnn, label='CNN ROC Curve')\n",
    "plt.xlabel('False Positive Rate')\n",
    "plt.ylabel('True Positive Rate')\n",
    "plt.title('CNN ROC Curve')\n",
    "plt.legend()\n",
    "plt.show()"
   ]
  },
  {
   "cell_type": "code",
   "execution_count": 16,
   "id": "f2a24044-39a5-4b5c-89d5-59ca3ebef5c4",
   "metadata": {},
   "outputs": [
    {
     "name": "stdout",
     "output_type": "stream",
     "text": [
      "CNN AUC Score: 0.9257048453900867\n"
     ]
    }
   ],
   "source": [
    "cnn_auc_score = roc_auc_score(Y_test, predicted_prob)\n",
    "print(\"CNN AUC Score:\", cnn_auc_score)"
   ]
  },
  {
   "cell_type": "code",
   "execution_count": null,
   "id": "1e9bd0cb-0a7f-48ec-a572-ba8cdec4908a",
   "metadata": {},
   "outputs": [],
   "source": []
  }
 ],
 "metadata": {
  "kernelspec": {
   "display_name": "lsm",
   "language": "python",
   "name": "lsm"
  },
  "language_info": {
   "codemirror_mode": {
    "name": "ipython",
    "version": 3
   },
   "file_extension": ".py",
   "mimetype": "text/x-python",
   "name": "python",
   "nbconvert_exporter": "python",
   "pygments_lexer": "ipython3",
   "version": "3.9.18"
  }
 },
 "nbformat": 4,
 "nbformat_minor": 5
}
